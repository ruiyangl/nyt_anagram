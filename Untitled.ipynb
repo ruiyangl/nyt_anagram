{
 "cells": [
  {
   "cell_type": "markdown",
   "metadata": {},
   "source": [
    "## CODE"
   ]
  },
  {
   "cell_type": "code",
   "execution_count": 151,
   "metadata": {},
   "outputs": [],
   "source": [
    "## Method 1\n",
    "def find_letter_comp(string):\n",
    "    return ''.join(sorted(list(string.lower()))) \n",
    "\n",
    "def find_scramble(string, dic):\n",
    "    try:\n",
    "        return dic[find_letter_comp(string)] \n",
    "    except KeyError:\n",
    "        return \"Letter composition not in this dictionary\"\n",
    "def find_letter_comp(string):\n",
    "    return ''.join(sorted(list(string.lower()))) \n",
    "def get_dic_core(word_file):\n",
    "    with open(word_file) as inhandle:\n",
    "        word_list = sorted([(i.rstrip(), find_letter_comp(i.rstrip())) for i in inhandle.readlines()], key = lambda pair: pair[1])\n",
    "    cur_key = ''\n",
    "    cur_value_lis = []\n",
    "    dic = {}\n",
    "    for value, key in word_list:\n",
    "        if key == cur_key:\n",
    "            cur_value_lis.append(value)\n",
    "        else:\n",
    "            dic[cur_key] = cur_value_lis\n",
    "            cur_key = key\n",
    "            cur_value_lis = [value]\n",
    "    return dic"
   ]
  },
  {
   "cell_type": "code",
   "execution_count": 152,
   "metadata": {},
   "outputs": [],
   "source": [
    "## Method 2\n",
    "def GenerateWordKey(word):\n",
    "    key = \"\".join(sorted(set(word)))\n",
    "    return key\n",
    "\n",
    "def get_dic_core_1(word_file):\n",
    "\n",
    "    with open(word_file) as f:\n",
    "        lines = [line.rstrip() for line in f]\n",
    "\n",
    "    wordkeys = [GenerateWordKey(item.replace(\"\\n\", \"\")) for item in lines]\n",
    "\n",
    "    initial = []\n",
    "    letterDictionary = dict.fromkeys(wordkeys, initial)\n",
    "\n",
    "    for word in lines:\n",
    "        wordkey = GenerateWordKey(word)\n",
    "        current_list = letterDictionary[wordkey].copy()\n",
    "        current_list.append(word)\n",
    "        letterDictionary.update({wordkey:current_list})\n",
    "    return letterDictionary"
   ]
  },
  {
   "cell_type": "code",
   "execution_count": 153,
   "metadata": {},
   "outputs": [],
   "source": [
    "# Helper functions\n",
    "def get_dic(word_file, func):\n",
    "    return func(word_file)"
   ]
  },
  {
   "cell_type": "markdown",
   "metadata": {},
   "source": [
    "### Testing long"
   ]
  },
  {
   "cell_type": "code",
   "execution_count": 207,
   "metadata": {},
   "outputs": [
    {
     "name": "stdout",
     "output_type": "stream",
     "text": [
      "length of dictionary: 370103\n"
     ]
    }
   ],
   "source": [
    "with open(\"./nytwords/words_alpha.txt\") as inhandle:\n",
    "    print(\"length of dictionary: \" + str(len(inhandle.readlines())))"
   ]
  },
  {
   "cell_type": "code",
   "execution_count": 157,
   "metadata": {
    "scrolled": true
   },
   "outputs": [
    {
     "name": "stdout",
     "output_type": "stream",
     "text": [
      "841 ms ± 17.8 ms per loop (mean ± std. dev. of 7 runs, 1 loop each)\n"
     ]
    }
   ],
   "source": [
    "%%timeit\n",
    "dic = get_dic(\"./nytwords/words_alpha.txt\", get_dic_core)"
   ]
  },
  {
   "cell_type": "code",
   "execution_count": 169,
   "metadata": {},
   "outputs": [
    {
     "name": "stdout",
     "output_type": "stream",
     "text": [
      "1.14 s ± 7.78 ms per loop (mean ± std. dev. of 7 runs, 1 loop each)\n"
     ]
    }
   ],
   "source": [
    "%%timeit\n",
    "dic1 = get_dic(\"./nytwords/words_alpha.txt\", get_dic_core_1)"
   ]
  },
  {
   "cell_type": "code",
   "execution_count": 167,
   "metadata": {
    "scrolled": true
   },
   "outputs": [
    {
     "data": {
      "text/plain": [
       "True"
      ]
     },
     "execution_count": 167,
     "metadata": {},
     "output_type": "execute_result"
    }
   ],
   "source": [
    "find_scramble('scar', dic) == find_scramble('scar', dic1)"
   ]
  },
  {
   "cell_type": "markdown",
   "metadata": {},
   "source": [
    "### Testing short"
   ]
  },
  {
   "cell_type": "code",
   "execution_count": 199,
   "metadata": {},
   "outputs": [],
   "source": [
    "# subsample dictionary\n",
    "outlist = []\n",
    "with open(\"./nytwords/words_alpha.txt\") as inhandle:\n",
    "        with open(\"./nytwords/words_alpha_short.txt\", 'w+') as outhandle:\n",
    "            for i, line in enumerate(inhandle):\n",
    "                if i % 2 == 0:\n",
    "                    outhandle.write(line)"
   ]
  },
  {
   "cell_type": "code",
   "execution_count": 206,
   "metadata": {},
   "outputs": [
    {
     "name": "stdout",
     "output_type": "stream",
     "text": [
      "length of dictionary: 185052\n"
     ]
    }
   ],
   "source": [
    "with open(\"./nytwords/words_alpha_short.txt\") as inhandle:\n",
    "    print(\"length of dictionary: \" + str(len(inhandle.readlines())))"
   ]
  },
  {
   "cell_type": "code",
   "execution_count": 203,
   "metadata": {},
   "outputs": [
    {
     "name": "stdout",
     "output_type": "stream",
     "text": [
      "398 ms ± 7.53 ms per loop (mean ± std. dev. of 7 runs, 1 loop each)\n"
     ]
    }
   ],
   "source": [
    "%%timeit\n",
    "dic = get_dic(\"./nytwords/words_alpha_short.txt\", get_dic_core)"
   ]
  },
  {
   "cell_type": "code",
   "execution_count": 204,
   "metadata": {},
   "outputs": [
    {
     "name": "stdout",
     "output_type": "stream",
     "text": [
      "570 ms ± 18.7 ms per loop (mean ± std. dev. of 7 runs, 1 loop each)\n"
     ]
    }
   ],
   "source": [
    "%%timeit\n",
    "dic1 = get_dic(\"./nytwords/words_alpha_short.txt\", get_dic_core_1)"
   ]
  },
  {
   "cell_type": "code",
   "execution_count": 205,
   "metadata": {},
   "outputs": [
    {
     "data": {
      "text/plain": [
       "True"
      ]
     },
     "execution_count": 205,
     "metadata": {},
     "output_type": "execute_result"
    }
   ],
   "source": [
    "find_scramble('scar', dic) == find_scramble('scar', dic1)"
   ]
  }
 ],
 "metadata": {
  "kernelspec": {
   "display_name": "Python 3",
   "language": "python",
   "name": "python3"
  },
  "language_info": {
   "codemirror_mode": {
    "name": "ipython",
    "version": 3
   },
   "file_extension": ".py",
   "mimetype": "text/x-python",
   "name": "python",
   "nbconvert_exporter": "python",
   "pygments_lexer": "ipython3",
   "version": "3.8.3"
  }
 },
 "nbformat": 4,
 "nbformat_minor": 4
}
